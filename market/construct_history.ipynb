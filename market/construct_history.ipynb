{
 "cells": [
  {
   "cell_type": "markdown",
   "metadata": {},
   "source": [
    "### Construct Historical Data\n",
    "- quandl.com 에서 과거데이터를 다운받아 저장함"
   ]
  },
  {
   "cell_type": "code",
   "execution_count": 1,
   "metadata": {},
   "outputs": [],
   "source": [
    "import csv\n",
    "import h5py\n",
    "import quandl\n",
    "import numpy as np\n",
    "import pandas as pd"
   ]
  },
  {
   "cell_type": "code",
   "execution_count": 2,
   "metadata": {},
   "outputs": [],
   "source": [
    "quandl.ApiConfig.api_key = \"6GRDzQGAm5PpBzWdcBT5\"\n",
    "METAFILE = 'instruments.csv'\n",
    "DBFILE = 'history/futures.h5py'"
   ]
  },
  {
   "cell_type": "markdown",
   "metadata": {},
   "source": [
    "#### 1. 상품정보 불러오기 instruments.csv -> dictionary"
   ]
  },
  {
   "cell_type": "code",
   "execution_count": 3,
   "metadata": {},
   "outputs": [],
   "source": [
    "with open(METAFILE ,'r') as file:\n",
    "    reader = csv.DictReader(open('instruments.csv'))\n",
    "    instruments = []\n",
    "    for row in reader:\n",
    "        instruments.append(row)"
   ]
  },
  {
   "cell_type": "markdown",
   "metadata": {},
   "source": [
    "#### 2. 데이터 다운받아 h5py로 저장"
   ]
  },
  {
   "cell_type": "code",
   "execution_count": 4,
   "metadata": {},
   "outputs": [],
   "source": [
    "db = h5py.File(DBFILE, mode='w')"
   ]
  },
  {
   "cell_type": "code",
   "execution_count": 5,
   "metadata": {},
   "outputs": [],
   "source": [
    "db.attrs['columns'] = 'date;open;high;low;close;volume;op_int'"
   ]
  },
  {
   "cell_type": "code",
   "execution_count": 6,
   "metadata": {},
   "outputs": [
    {
     "name": "stdout",
     "output_type": "stream",
     "text": [
      "Australian Dollar\n"
     ]
    }
   ],
   "source": [
    "for instrument in instruments[:1]:\n",
    "    if instrument['has_history'] == 'y':\n",
    "        print(instrument['name'])\n",
    "        exch = instrument['exchange'].lower()\n",
    "        symbol = instrument['symbol'].lower()\n",
    "        depth = instrument['depth']\n",
    "        code = f\"{exch}_{symbol}{depth}_OB\"\n",
    "        df=quandl.get_table('SCF/PRICES', quandl_code=code, paginate=True)[::-1]\n",
    "        df['date'] = df['date'].astype('int64')/1e6\n",
    "        data = df[['date','open','high','low','settle','volume','prev_day_open_interest']]\n",
    "        group = db.create_dataset((exch+'_'+symbol).lower(), data.shape, data=data, dtype='float64')\n",
    "        group.attrs['symbol'] = symbol\n",
    "        group.attrs['exchange'] = exch\n",
    "        group.attrs['name'] = instrument['name'].lower()\n",
    "        group.attrs['code'] = code.lower()"
   ]
  },
  {
   "cell_type": "code",
   "execution_count": 7,
   "metadata": {},
   "outputs": [],
   "source": [
    "db.close()"
   ]
  },
  {
   "cell_type": "markdown",
   "metadata": {},
   "source": [
    "#### 3. 확인"
   ]
  },
  {
   "cell_type": "code",
   "execution_count": 8,
   "metadata": {},
   "outputs": [],
   "source": [
    "db = h5py.File(DBFILE, mode='r')"
   ]
  },
  {
   "cell_type": "code",
   "execution_count": 9,
   "metadata": {},
   "outputs": [
    {
     "ename": "KeyError",
     "evalue": "\"Unable to open object (object 'CME_AD' doesn't exist)\"",
     "output_type": "error",
     "traceback": [
      "\u001b[1;31m---------------------------------------------------------------------------\u001b[0m",
      "\u001b[1;31mKeyError\u001b[0m                                  Traceback (most recent call last)",
      "\u001b[1;32m<ipython-input-9-d3416b6754c7>\u001b[0m in \u001b[0;36m<module>\u001b[1;34m\u001b[0m\n\u001b[1;32m----> 1\u001b[1;33m \u001b[0md\u001b[0m\u001b[1;33m=\u001b[0m\u001b[0mdb\u001b[0m\u001b[1;33m[\u001b[0m\u001b[1;34m'CME_AD'\u001b[0m\u001b[1;33m]\u001b[0m\u001b[1;33m\u001b[0m\u001b[1;33m\u001b[0m\u001b[0m\n\u001b[0m",
      "\u001b[1;32mh5py\\_objects.pyx\u001b[0m in \u001b[0;36mh5py._objects.with_phil.wrapper\u001b[1;34m()\u001b[0m\n",
      "\u001b[1;32mh5py\\_objects.pyx\u001b[0m in \u001b[0;36mh5py._objects.with_phil.wrapper\u001b[1;34m()\u001b[0m\n",
      "\u001b[1;32mC:\\python\\python37\\lib\\site-packages\\h5py\\_hl\\group.py\u001b[0m in \u001b[0;36m__getitem__\u001b[1;34m(self, name)\u001b[0m\n\u001b[0;32m    260\u001b[0m                 \u001b[1;32mraise\u001b[0m \u001b[0mValueError\u001b[0m\u001b[1;33m(\u001b[0m\u001b[1;34m\"Invalid HDF5 object reference\"\u001b[0m\u001b[1;33m)\u001b[0m\u001b[1;33m\u001b[0m\u001b[1;33m\u001b[0m\u001b[0m\n\u001b[0;32m    261\u001b[0m         \u001b[1;32melse\u001b[0m\u001b[1;33m:\u001b[0m\u001b[1;33m\u001b[0m\u001b[1;33m\u001b[0m\u001b[0m\n\u001b[1;32m--> 262\u001b[1;33m             \u001b[0moid\u001b[0m \u001b[1;33m=\u001b[0m \u001b[0mh5o\u001b[0m\u001b[1;33m.\u001b[0m\u001b[0mopen\u001b[0m\u001b[1;33m(\u001b[0m\u001b[0mself\u001b[0m\u001b[1;33m.\u001b[0m\u001b[0mid\u001b[0m\u001b[1;33m,\u001b[0m \u001b[0mself\u001b[0m\u001b[1;33m.\u001b[0m\u001b[0m_e\u001b[0m\u001b[1;33m(\u001b[0m\u001b[0mname\u001b[0m\u001b[1;33m)\u001b[0m\u001b[1;33m,\u001b[0m \u001b[0mlapl\u001b[0m\u001b[1;33m=\u001b[0m\u001b[0mself\u001b[0m\u001b[1;33m.\u001b[0m\u001b[0m_lapl\u001b[0m\u001b[1;33m)\u001b[0m\u001b[1;33m\u001b[0m\u001b[1;33m\u001b[0m\u001b[0m\n\u001b[0m\u001b[0;32m    263\u001b[0m \u001b[1;33m\u001b[0m\u001b[0m\n\u001b[0;32m    264\u001b[0m         \u001b[0motype\u001b[0m \u001b[1;33m=\u001b[0m \u001b[0mh5i\u001b[0m\u001b[1;33m.\u001b[0m\u001b[0mget_type\u001b[0m\u001b[1;33m(\u001b[0m\u001b[0moid\u001b[0m\u001b[1;33m)\u001b[0m\u001b[1;33m\u001b[0m\u001b[1;33m\u001b[0m\u001b[0m\n",
      "\u001b[1;32mh5py\\_objects.pyx\u001b[0m in \u001b[0;36mh5py._objects.with_phil.wrapper\u001b[1;34m()\u001b[0m\n",
      "\u001b[1;32mh5py\\_objects.pyx\u001b[0m in \u001b[0;36mh5py._objects.with_phil.wrapper\u001b[1;34m()\u001b[0m\n",
      "\u001b[1;32mh5py\\h5o.pyx\u001b[0m in \u001b[0;36mh5py.h5o.open\u001b[1;34m()\u001b[0m\n",
      "\u001b[1;31mKeyError\u001b[0m: \"Unable to open object (object 'CME_AD' doesn't exist)\""
     ]
    }
   ],
   "source": [
    "d=db['CME_AD']"
   ]
  },
  {
   "cell_type": "code",
   "execution_count": 12,
   "metadata": {},
   "outputs": [],
   "source": [
    "columns = db.attrs['columns'].split(';')"
   ]
  },
  {
   "cell_type": "code",
   "execution_count": 13,
   "metadata": {},
   "outputs": [],
   "source": [
    "df = pd.DataFrame(d[:], columns=columns)"
   ]
  },
  {
   "cell_type": "code",
   "execution_count": 14,
   "metadata": {},
   "outputs": [],
   "source": [
    "df['date'] = df['date'].astype('M8[s]')"
   ]
  },
  {
   "cell_type": "code",
   "execution_count": 15,
   "metadata": {},
   "outputs": [
    {
     "data": {
      "text/html": [
       "<div>\n",
       "<style scoped>\n",
       "    .dataframe tbody tr th:only-of-type {\n",
       "        vertical-align: middle;\n",
       "    }\n",
       "\n",
       "    .dataframe tbody tr th {\n",
       "        vertical-align: top;\n",
       "    }\n",
       "\n",
       "    .dataframe thead th {\n",
       "        text-align: right;\n",
       "    }\n",
       "</style>\n",
       "<table border=\"1\" class=\"dataframe\">\n",
       "  <thead>\n",
       "    <tr style=\"text-align: right;\">\n",
       "      <th></th>\n",
       "      <th>date</th>\n",
       "      <th>open</th>\n",
       "      <th>high</th>\n",
       "      <th>low</th>\n",
       "      <th>close</th>\n",
       "      <th>volume</th>\n",
       "      <th>op_int</th>\n",
       "    </tr>\n",
       "  </thead>\n",
       "  <tbody>\n",
       "    <tr>\n",
       "      <th>0</th>\n",
       "      <td>1960-10-26</td>\n",
       "      <td>24.31</td>\n",
       "      <td>24.32</td>\n",
       "      <td>24.31</td>\n",
       "      <td>24.31</td>\n",
       "      <td>0.0</td>\n",
       "      <td>0.0</td>\n",
       "    </tr>\n",
       "    <tr>\n",
       "      <th>1</th>\n",
       "      <td>1960-10-27</td>\n",
       "      <td>24.28</td>\n",
       "      <td>24.31</td>\n",
       "      <td>24.28</td>\n",
       "      <td>24.28</td>\n",
       "      <td>1.0</td>\n",
       "      <td>1.0</td>\n",
       "    </tr>\n",
       "    <tr>\n",
       "      <th>2</th>\n",
       "      <td>1960-10-28</td>\n",
       "      <td>24.32</td>\n",
       "      <td>24.32</td>\n",
       "      <td>24.23</td>\n",
       "      <td>24.32</td>\n",
       "      <td>27.0</td>\n",
       "      <td>27.0</td>\n",
       "    </tr>\n",
       "    <tr>\n",
       "      <th>3</th>\n",
       "      <td>1960-10-31</td>\n",
       "      <td>24.43</td>\n",
       "      <td>24.51</td>\n",
       "      <td>24.37</td>\n",
       "      <td>24.43</td>\n",
       "      <td>12.0</td>\n",
       "      <td>34.0</td>\n",
       "    </tr>\n",
       "    <tr>\n",
       "      <th>4</th>\n",
       "      <td>1960-11-01</td>\n",
       "      <td>24.37</td>\n",
       "      <td>24.45</td>\n",
       "      <td>24.37</td>\n",
       "      <td>24.37</td>\n",
       "      <td>24.0</td>\n",
       "      <td>52.0</td>\n",
       "    </tr>\n",
       "    <tr>\n",
       "      <th>...</th>\n",
       "      <td>...</td>\n",
       "      <td>...</td>\n",
       "      <td>...</td>\n",
       "      <td>...</td>\n",
       "      <td>...</td>\n",
       "      <td>...</td>\n",
       "      <td>...</td>\n",
       "    </tr>\n",
       "    <tr>\n",
       "      <th>14902</th>\n",
       "      <td>2020-01-13</td>\n",
       "      <td>34.45</td>\n",
       "      <td>34.55</td>\n",
       "      <td>33.90</td>\n",
       "      <td>33.95</td>\n",
       "      <td>54160.0</td>\n",
       "      <td>247872.0</td>\n",
       "    </tr>\n",
       "    <tr>\n",
       "      <th>14903</th>\n",
       "      <td>2020-01-14</td>\n",
       "      <td>33.98</td>\n",
       "      <td>34.15</td>\n",
       "      <td>33.51</td>\n",
       "      <td>34.07</td>\n",
       "      <td>65784.0</td>\n",
       "      <td>246803.0</td>\n",
       "    </tr>\n",
       "    <tr>\n",
       "      <th>14904</th>\n",
       "      <td>2020-01-15</td>\n",
       "      <td>34.08</td>\n",
       "      <td>34.11</td>\n",
       "      <td>33.25</td>\n",
       "      <td>33.30</td>\n",
       "      <td>82343.0</td>\n",
       "      <td>241919.0</td>\n",
       "    </tr>\n",
       "    <tr>\n",
       "      <th>14905</th>\n",
       "      <td>2020-01-16</td>\n",
       "      <td>33.30</td>\n",
       "      <td>33.45</td>\n",
       "      <td>32.89</td>\n",
       "      <td>33.03</td>\n",
       "      <td>67631.0</td>\n",
       "      <td>238702.0</td>\n",
       "    </tr>\n",
       "    <tr>\n",
       "      <th>14906</th>\n",
       "      <td>2020-01-17</td>\n",
       "      <td>33.10</td>\n",
       "      <td>33.42</td>\n",
       "      <td>32.75</td>\n",
       "      <td>33.35</td>\n",
       "      <td>57221.0</td>\n",
       "      <td>231853.0</td>\n",
       "    </tr>\n",
       "  </tbody>\n",
       "</table>\n",
       "<p>14907 rows × 7 columns</p>\n",
       "</div>"
      ],
      "text/plain": [
       "            date   open   high    low  close   volume    op_int\n",
       "0     1960-10-26  24.31  24.32  24.31  24.31      0.0       0.0\n",
       "1     1960-10-27  24.28  24.31  24.28  24.28      1.0       1.0\n",
       "2     1960-10-28  24.32  24.32  24.23  24.32     27.0      27.0\n",
       "3     1960-10-31  24.43  24.51  24.37  24.43     12.0      34.0\n",
       "4     1960-11-01  24.37  24.45  24.37  24.37     24.0      52.0\n",
       "...          ...    ...    ...    ...    ...      ...       ...\n",
       "14902 2020-01-13  34.45  34.55  33.90  33.95  54160.0  247872.0\n",
       "14903 2020-01-14  33.98  34.15  33.51  34.07  65784.0  246803.0\n",
       "14904 2020-01-15  34.08  34.11  33.25  33.30  82343.0  241919.0\n",
       "14905 2020-01-16  33.30  33.45  32.89  33.03  67631.0  238702.0\n",
       "14906 2020-01-17  33.10  33.42  32.75  33.35  57221.0  231853.0\n",
       "\n",
       "[14907 rows x 7 columns]"
      ]
     },
     "execution_count": 15,
     "metadata": {},
     "output_type": "execute_result"
    }
   ],
   "source": [
    "df"
   ]
  },
  {
   "cell_type": "code",
   "execution_count": 16,
   "metadata": {},
   "outputs": [],
   "source": [
    "db.close()"
   ]
  },
  {
   "cell_type": "code",
   "execution_count": null,
   "metadata": {},
   "outputs": [],
   "source": []
  }
 ],
 "metadata": {
  "kernelspec": {
   "display_name": "Python 3",
   "language": "python",
   "name": "python3"
  },
  "language_info": {
   "codemirror_mode": {
    "name": "ipython",
    "version": 3
   },
   "file_extension": ".py",
   "mimetype": "text/x-python",
   "name": "python",
   "nbconvert_exporter": "python",
   "pygments_lexer": "ipython3",
   "version": "3.7.5"
  }
 },
 "nbformat": 4,
 "nbformat_minor": 2
}

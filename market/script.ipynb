{
 "cells": [
  {
   "cell_type": "code",
   "execution_count": 48,
   "metadata": {},
   "outputs": [],
   "source": [
    "import csv\n",
    "import os\n",
    "from datetime import datetime\n",
    "import h5py"
   ]
  },
  {
   "cell_type": "code",
   "execution_count": 49,
   "metadata": {},
   "outputs": [],
   "source": [
    "cwd = os.getcwd()\n",
    "METAFILE = os.path.join(cwd, 'instruments.csv')\n",
    "HISTORYFILE = os.path.join(cwd,'history', 'futures.h5py')"
   ]
  },
  {
   "cell_type": "code",
   "execution_count": 103,
   "metadata": {},
   "outputs": [],
   "source": [
    "class Instrument:\n",
    "    \n",
    "    def __init__(self, symbol, name, exchange, currency, market, region\\\n",
    "                 ,startdate, tickunit, tickprice, margin, depth, decimallength, has_history, is_tradable):\n",
    "        self.symbol = symbol\n",
    "        self.name = name\n",
    "        self.exchange = exchange\n",
    "        self.currency = currency\n",
    "        self.market = market\n",
    "        self.region = region\n",
    "        self.startdate = startdate\n",
    "        self.tickunit = tickunit\n",
    "        self.tickprice = tickprice\n",
    "        self.margin = margin\n",
    "        self.depth = depth\n",
    "        self.decimallength = decimallength\n",
    "        self.has_history = has_history\n",
    "        self.is_tradable = is_tradable\n",
    "        self.code = f'{self.exchange}_{self.symbol}'\n",
    "    \n",
    "    def __repr__(self):\n",
    "        return f\"{self.name}({self.symbol})\"\n",
    "    \n",
    "    def history(self, length=0):\n",
    "        db = h5py.File(HISTORYFILE, mode='r')\n",
    "        history = db[self.code][-length:] if length else db[self.code][:]\n",
    "        db.close()\n",
    "        return history\n",
    "    \n",
    "    def context_object(self):\n",
    "        return dict(\n",
    "            symbol=self.symbol,\n",
    "            name=self.name,\n",
    "            exchange=self.exchange,\n",
    "            currency=self.currency,\n",
    "            market=self.market,\n",
    "            region = self.region,\n",
    "            startdate = self.startdate,\n",
    "            tickunit = self.tickunit,\n",
    "            tickprice = self.tickprice,\n",
    "            margin = self.margin,\n",
    "            depth = self.depth,\n",
    "            decimallength = self.decimallength,\n",
    "            has_history = self.has_history,\n",
    "            is_tradable = self.is_tradable,\n",
    "            code = f'{self.exchange}_{self.symbol}',\n",
    "        )\n",
    "        \n",
    "        \n",
    "class Instruments:\n",
    "    METAFILE = os.path.join(cwd, 'instruments.csv')\n",
    "    _lists = [] #개별 상품 인스턴트 리스트\n",
    "    with open(METAFILE ,'r', encoding=\"utf-8\") as file:\n",
    "        reader = csv.DictReader(file)\n",
    "        _instruments = list(reader)\n",
    "        \n",
    "        for instrument in _instruments:\n",
    "            __instrument = Instrument(\n",
    "                symbol=instrument['symbol'].lower(),\n",
    "                name=instrument['name'].lower(),\n",
    "                exchange=instrument['exchange'].lower(),\n",
    "                currency=instrument['currency'].lower(),\n",
    "                market=instrument['market'].lower(),\n",
    "                region=instrument['region'].lower(),\n",
    "                startdate=datetime.strptime(instrument['startdate'],'%Y-%m-%d'),\n",
    "                tickunit=float(instrument['tickunit']),\n",
    "                tickprice=float(instrument['tickprice']),\n",
    "                margin=float(instrument['margin']),\n",
    "                depth=int(instrument['depth']),\n",
    "                decimallength=int(instrument['decimallength']),\n",
    "                has_history=True if instrument['has_history']=='y' else False,\n",
    "                is_tradable=True if instrument['is_tradable']=='y' else False\n",
    "            )\n",
    "            _lists.append(__instrument)\n",
    "            \n",
    "    \n",
    "    @staticmethod\n",
    "    def get(**kwargs):\n",
    "            #symbol=None,name=None, exchange=None, startdate=None, currency=None, region=None\\\n",
    "            #,tickunit=None, tickprice=None, margin=None, depth=None, decimal_length=None\\\n",
    "            #,has_history=None, is_tradable=None):\n",
    "        attrs = ['symbol','name','exchange','startdate','currency','region'\\\n",
    "                ,'tickunit','tickprice','margin','depth','decimallength','has_history','is_tradable','code']\n",
    "        def func(ins):\n",
    "            for key, value in kwargs.items():\n",
    "                value = value.lower() if isinstance(value, str) else value\n",
    "                #print(ins.name, ins.has_history)\n",
    "                if key not in attrs:\n",
    "                    return False\n",
    "                \n",
    "                if getattr(ins, key) != value:\n",
    "                    #print(getattr(ins,key), value)\n",
    "                    return False\n",
    "            return True\n",
    "        return [ret for ret in filter(func, Instruments._lists)]"
   ]
  },
  {
   "cell_type": "code",
   "execution_count": 104,
   "metadata": {},
   "outputs": [
    {
     "data": {
      "text/plain": [
       "[australian dollar(ad)]"
      ]
     },
     "execution_count": 104,
     "metadata": {},
     "output_type": "execute_result"
    }
   ],
   "source": [
    "Instruments.get(code='cme_ad')"
   ]
  },
  {
   "cell_type": "code",
   "execution_count": 102,
   "metadata": {},
   "outputs": [
    {
     "data": {
      "text/plain": [
       "'cme_ad'"
      ]
     },
     "execution_count": 102,
     "metadata": {},
     "output_type": "execute_result"
    }
   ],
   "source": [
    "Instruments.get(symbol='ad')[0].code"
   ]
  },
  {
   "cell_type": "code",
   "execution_count": 36,
   "metadata": {},
   "outputs": [],
   "source": [
    "s=\"\\uac00\\ub098\\ub2e4\".encode('raw_unicode_escape').decode('cp949')"
   ]
  },
  {
   "cell_type": "code",
   "execution_count": 40,
   "metadata": {},
   "outputs": [
    {
     "data": {
      "text/plain": [
       "b'\\\\uac00\\\\ub098\\\\ub2e4'"
      ]
     },
     "execution_count": 40,
     "metadata": {},
     "output_type": "execute_result"
    }
   ],
   "source": [
    "s.encode('utf-8')"
   ]
  },
  {
   "cell_type": "code",
   "execution_count": 28,
   "metadata": {},
   "outputs": [],
   "source": [
    "df = pd.DataFrame(s['cme_ad'][:], columns=s.attrs['columns'].split(';'))"
   ]
  },
  {
   "cell_type": "code",
   "execution_count": 24,
   "metadata": {},
   "outputs": [
    {
     "data": {
      "text/plain": [
       "b'abcd'"
      ]
     },
     "execution_count": 24,
     "metadata": {},
     "output_type": "execute_result"
    }
   ],
   "source": [
    "b'abcd'"
   ]
  },
  {
   "cell_type": "code",
   "execution_count": 41,
   "metadata": {},
   "outputs": [
    {
     "name": "stdout",
     "output_type": "stream",
     "text": [
      "True\n"
     ]
    }
   ],
   "source": [
    "x = \"😸\"\n",
    "y = \"\\U0001f638\"\n",
    "\n",
    "print(x == y)"
   ]
  },
  {
   "cell_type": "code",
   "execution_count": 42,
   "metadata": {},
   "outputs": [
    {
     "data": {
      "text/plain": [
       "'😸'"
      ]
     },
     "execution_count": 42,
     "metadata": {},
     "output_type": "execute_result"
    }
   ],
   "source": [
    "x"
   ]
  },
  {
   "cell_type": "code",
   "execution_count": 43,
   "metadata": {},
   "outputs": [
    {
     "data": {
      "text/plain": [
       "'😸'"
      ]
     },
     "execution_count": 43,
     "metadata": {},
     "output_type": "execute_result"
    }
   ],
   "source": [
    "u\"\\U0001f638\""
   ]
  },
  {
   "cell_type": "code",
   "execution_count": 44,
   "metadata": {},
   "outputs": [
    {
     "data": {
      "text/plain": [
       "'가나다'"
      ]
     },
     "execution_count": 44,
     "metadata": {},
     "output_type": "execute_result"
    }
   ],
   "source": [
    "u\"\\uac00\\ub098\\ub2e4\""
   ]
  },
  {
   "cell_type": "code",
   "execution_count": null,
   "metadata": {},
   "outputs": [],
   "source": []
  }
 ],
 "metadata": {
  "kernelspec": {
   "display_name": "Python 3",
   "language": "python",
   "name": "python3"
  },
  "language_info": {
   "codemirror_mode": {
    "name": "ipython",
    "version": 3
   },
   "file_extension": ".py",
   "mimetype": "text/x-python",
   "name": "python",
   "nbconvert_exporter": "python",
   "pygments_lexer": "ipython3",
   "version": "3.7.5"
  }
 },
 "nbformat": 4,
 "nbformat_minor": 2
}

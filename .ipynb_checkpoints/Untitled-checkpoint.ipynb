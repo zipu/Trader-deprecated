{
 "cells": [
  {
   "cell_type": "code",
   "execution_count": 112,
   "metadata": {},
   "outputs": [],
   "source": [
    "import pandas as pd\n",
    "import csv\n",
    "import os\n",
    "from datetime import datetime"
   ]
  },
  {
   "cell_type": "code",
   "execution_count": 138,
   "metadata": {},
   "outputs": [],
   "source": [
    "class Instrument:\n",
    "    METAFILE = os.path.join('market', 'instruments.csv')\n",
    "    with open(METAFILE ,'r') as file:\n",
    "        reader = csv.DictReader(file)\n",
    "        Instruments = list(reader)\n",
    "        for instrument in Instruments:\n",
    "            instrument['symbol'] = instrument['symbol'].lower()\n",
    "            instrument['name'] = instrument['name'].lower()\n",
    "            instrument['exchange'] = instrument['exchange'].lower()\n",
    "            instrument['currency'] = instrument['currency'].lower()\n",
    "            instrument['market'] = instrument['market'].lower()\n",
    "            instrument['region'] = instrument['region'].lower()\n",
    "            instrument['startdate'] = datetime.strptime(instrument['startdate'],'%Y-%m-%d')\n",
    "            instrument['tickunit'] = float(instrument['tickunit'])\n",
    "            instrument['tickprice'] = float(instrument['tickprice'])\n",
    "            instrument['margin'] = float(instrument['margin'])\n",
    "            instrument['depth'] = int(instrument['depth'])\n",
    "            instrument['decimallength'] = int(instrument['decimallength'])\n",
    "            instrument['has_history']= True if instrument['has_history']=='y' else False\n",
    "            instrument['is_tradable']= True if instrument['is_tradable']=='y' else False\n",
    "    \n",
    "    @staticmethod\n",
    "    def get(**kwargs):\n",
    "            #symbol=None,name=None, exchange=None, startdate=None, currency=None, region=None\\\n",
    "            #,tickunit=None, tickprice=None, margin=None, depth=None, decimal_length=None\\\n",
    "            #,has_history=None, is_tradable=None):\n",
    "        \n",
    "        def func(ins):\n",
    "            keys = list(ins.keys())\n",
    "            for key, value in kwargs.items():\n",
    "                if key not in keys:\n",
    "                    return False\n",
    "                \n",
    "                if ins[key] != value:\n",
    "                    return False\n",
    "            return True\n",
    "        return [dict(ret) for ret in filter(func, Instrument.Instruments)]\n",
    "        \n",
    "        "
   ]
  }
 ],
 "metadata": {
  "kernelspec": {
   "display_name": "Python 3",
   "language": "python",
   "name": "python3"
  },
  "language_info": {
   "codemirror_mode": {
    "name": "ipython",
    "version": 3
   },
   "file_extension": ".py",
   "mimetype": "text/x-python",
   "name": "python",
   "nbconvert_exporter": "python",
   "pygments_lexer": "ipython3",
   "version": "3.7.5"
  }
 },
 "nbformat": 4,
 "nbformat_minor": 2
}

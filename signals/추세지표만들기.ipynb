{
 "cells": [
  {
   "cell_type": "code",
   "execution_count": 1,
   "metadata": {},
   "outputs": [],
   "source": [
    "import sys\n",
    "sys.path.append('..')"
   ]
  },
  {
   "cell_type": "code",
   "execution_count": 2,
   "metadata": {},
   "outputs": [],
   "source": [
    "from tools import bar_chart\n",
    "from market import Instruments\n",
    "import h5py\n",
    "import matplotlib.pyplot as plt"
   ]
  },
  {
   "cell_type": "code",
   "execution_count": 3,
   "metadata": {},
   "outputs": [],
   "source": [
    "file = h5py.File('training_set/trend_100.h5py')"
   ]
  },
  {
   "cell_type": "code",
   "execution_count": 6,
   "metadata": {},
   "outputs": [],
   "source": [
    "num_dim = 4\n",
    "window = 100"
   ]
  },
  {
   "cell_type": "code",
   "execution_count": 7,
   "metadata": {},
   "outputs": [],
   "source": [
    "if 'X' not in file.keys():\n",
    "    file.create_dataset('X', (0, window, num_dim), maxshape=(None, window, num_dim), dtype='float32')\n",
    "    file.create_dataset('Y', (0,), maxshape=(None,), dtype='i')"
   ]
  },
  {
   "cell_type": "code",
   "execution_count": 8,
   "metadata": {},
   "outputs": [],
   "source": [
    "X, Y  = file['X'], file['Y']"
   ]
  },
  {
   "cell_type": "code",
   "execution_count": 12,
   "metadata": {},
   "outputs": [],
   "source": [
    "a = Instruments.get(has_history=True)[0].to_df(start=500)"
   ]
  },
  {
   "cell_type": "code",
   "execution_count": 13,
   "metadata": {},
   "outputs": [
    {
     "data": {
      "image/png": "[encoded data removed]",
      "text/plain": [
       "<Figure size 864x432 with 1 Axes>"
      ]
     },
     "metadata": {
      "needs_background": "light"
     },
     "output_type": "display_data"
    }
   ],
   "source": [
    "plt.figure(figsize=(12,6))\n",
    "ax = plt.subplot()\n",
    "bar_chart(ax, a)\n",
    "plt.show()"
   ]
  },
  {
   "cell_type": "code",
   "execution_count": 20,
   "metadata": {},
   "outputs": [
    {
     "data": {
      "text/plain": [
       "<Figure size 432x288 with 0 Axes>"
      ]
     },
     "execution_count": 20,
     "metadata": {},
     "output_type": "execute_result"
    }
   ],
   "source": [
    "ax"
   ]
  },
  {
   "cell_type": "code",
   "execution_count": null,
   "metadata": {},
   "outputs": [],
   "source": []
  },
  {
   "cell_type": "code",
   "execution_count": null,
   "metadata": {},
   "outputs": [],
   "source": []
  },
  {
   "cell_type": "code",
   "execution_count": 1,
   "metadata": {},
   "outputs": [],
   "source": [
    "def define_trend(filepath, raw_file, window):\n",
    "    \"\"\"\n",
    "    * 주어진 차트를 보고 사용자의 경험에 근거로 현재 추세를 결정하는 함수\n",
    "    * 이 자료는 기계학습의 훈련 데이터로 사용됨\n",
    "    args:\n",
    "        filepath: 저장할 파일 경로\n",
    "        raw_data: h5py로 저장된 시장 OHLC 데이터\n",
    "        window: 타임 윈도우\n",
    "        num_dim: label 갯수 ex) ohlcv = 5\n",
    "    \"\"\"\n",
    "\n",
    "    file = open_file('h5py', filepath, mode='a')\n",
    "    num_dim = 4 #open, high, low, close\n",
    "\n",
    "    if 'X' not in file.keys():\n",
    "        file.create_dataset('X', (0, window, num_dim), maxshape=(None, window, num_dim), dtype='float32', compression='gzip')\n",
    "        file.create_dataset('Y', (0,), maxshape=(None,), dtype='i')\n",
    "    \n",
    "    X, Y  = file['X'], file['Y']\n",
    "    names = [name for name in raw_file]\n",
    "    \n",
    "\n",
    "    while True:\n",
    "        name = np.random.choice(names)\n",
    "        raw_data = dataframe(name, raw_file).reset_index(drop=True)\n",
    "\n",
    "        length = len(raw_data)\n",
    "\n",
    "        for i in range(10):\n",
    "            print(name)\n",
    "            #시작일자 랜덤 설정\n",
    "            start = np.random.choice(raw_data.index[:-window])\n",
    "            end = start + window \n",
    "            data= raw_data.iloc[start:end]\n",
    "\n",
    "            #Data Normalization\n",
    "            base = np.abs(data.close.diff()).mean()\n",
    "            data = norm(data)\n",
    "\n",
    "            #그래프 \n",
    "            fig, (ax) = plt.subplots(2,1, gridspec_kw = {'height_ratios':[1, 1]}, figsize=(12,14))\n",
    "            fig.autofmt_xdate()\n",
    "\n",
    "            s= start - 240\n",
    "            ohlc_chart(ax[0], raw_data.iloc[s:end], colors=['k','k'], linewidth=1.44)\n",
    "            ax[0].axvspan(start, end, facecolor='C1', alpha=0.2)\n",
    "\n",
    "            candle_chart(ax[1], raw_data.iloc[start:end], colors=['red','blue'], linewidth=1.44)\n",
    "            mean = raw_data[start:end].close.mean()\n",
    "            ax[1].axhline(y=mean, linewidth=1.2, color='g')\n",
    "            ymin = raw_data.open.loc[start]-base*2\n",
    "            ymax = raw_data.open.loc[start]+base*2\n",
    "            ax[1].axhspan(ymin, ymax, alpha=0.2, color='C1')\n",
    "            ax[1].axhline(y=raw_data.open.loc[start], linewidth=1.2, color='red')\n",
    "            \n",
    "            ax[1].axvline(x= (start + end -1)/2, linewidth=1, color='g')\n",
    "            plt.show()\n",
    "\n",
    "            #추세 입력\n",
    "\n",
    "            time.sleep(0.1)\n",
    "            print('range: ',data.close.max() - data.close.min())\n",
    "            trend = input(\"하락(0), 기타(1), 상승(2): \")\n",
    "            if trend == 'q' or trend == 'n':\n",
    "                break\n",
    "            elif trend in ['0','1','2']:\n",
    "                size = X.shape[0]\n",
    "                X.resize(size+1, axis=0)\n",
    "                Y.resize(size+1, axis=0)\n",
    "                X[size] = data[['open','high','low','close']].values\n",
    "                Y[size] = int(trend)\n",
    "\n",
    "            clear_output(wait=True)\n",
    "        if trend == 'q':\n",
    "                #file.close()\n",
    "                break\n",
    "        clear_output(wait=True)\n",
    "    file.close()"
   ]
  },
  {
   "cell_type": "code",
   "execution_count": null,
   "metadata": {},
   "outputs": [],
   "source": []
  }
 ],
 "metadata": {
  "kernelspec": {
   "display_name": "Python 3",
   "language": "python",
   "name": "python3"
  },
  "language_info": {
   "codemirror_mode": {
    "name": "ipython",
    "version": 3
   },
   "file_extension": ".py",
   "mimetype": "text/x-python",
   "name": "python",
   "nbconvert_exporter": "python",
   "pygments_lexer": "ipython3",
   "version": "3.7.5"
  }
 },
 "nbformat": 4,
 "nbformat_minor": 2
}

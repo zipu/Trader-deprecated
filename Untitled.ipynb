{
 "cells": [
  {
   "cell_type": "code",
   "execution_count": 1,
   "metadata": {},
   "outputs": [],
   "source": [
    "from market import Instruments"
   ]
  },
  {
   "cell_type": "code",
   "execution_count": 6,
   "metadata": {},
   "outputs": [],
   "source": [
    "import pandas as pd"
   ]
  },
  {
   "cell_type": "code",
   "execution_count": 3,
   "metadata": {},
   "outputs": [],
   "source": [
    "d=Instruments.get(symbol='ad')[0]"
   ]
  },
  {
   "cell_type": "code",
   "execution_count": 7,
   "metadata": {},
   "outputs": [],
   "source": [
    "df = pd.DataFrame(d.history())"
   ]
  },
  {
   "cell_type": "code",
   "execution_count": 9,
   "metadata": {},
   "outputs": [],
   "source": [
    "df.columns = ['a','b','c','d','e','f','g']"
   ]
  },
  {
   "cell_type": "code",
   "execution_count": 18,
   "metadata": {},
   "outputs": [],
   "source": [
    "df['a'] = df['a'].astype('M8[ms]')"
   ]
  },
  {
   "cell_type": "code",
   "execution_count": 19,
   "metadata": {},
   "outputs": [
    {
     "data": {
      "text/html": [
       "<div>\n",
       "<style scoped>\n",
       "    .dataframe tbody tr th:only-of-type {\n",
       "        vertical-align: middle;\n",
       "    }\n",
       "\n",
       "    .dataframe tbody tr th {\n",
       "        vertical-align: top;\n",
       "    }\n",
       "\n",
       "    .dataframe thead th {\n",
       "        text-align: right;\n",
       "    }\n",
       "</style>\n",
       "<table border=\"1\" class=\"dataframe\">\n",
       "  <thead>\n",
       "    <tr style=\"text-align: right;\">\n",
       "      <th></th>\n",
       "      <th>a</th>\n",
       "      <th>b</th>\n",
       "      <th>c</th>\n",
       "      <th>d</th>\n",
       "      <th>e</th>\n",
       "      <th>f</th>\n",
       "      <th>g</th>\n",
       "    </tr>\n",
       "  </thead>\n",
       "  <tbody>\n",
       "    <tr>\n",
       "      <th>0</th>\n",
       "      <td>1987-01-13</td>\n",
       "      <td>0.0078</td>\n",
       "      <td>0.0089</td>\n",
       "      <td>0.0039</td>\n",
       "      <td>0.0041</td>\n",
       "      <td>1854.0</td>\n",
       "      <td>915.0</td>\n",
       "    </tr>\n",
       "    <tr>\n",
       "      <th>1</th>\n",
       "      <td>1987-01-14</td>\n",
       "      <td>-0.0059</td>\n",
       "      <td>-0.0048</td>\n",
       "      <td>-0.0093</td>\n",
       "      <td>-0.0082</td>\n",
       "      <td>1446.0</td>\n",
       "      <td>930.0</td>\n",
       "    </tr>\n",
       "    <tr>\n",
       "      <th>2</th>\n",
       "      <td>1987-01-15</td>\n",
       "      <td>0.0019</td>\n",
       "      <td>0.0020</td>\n",
       "      <td>0.0006</td>\n",
       "      <td>0.0008</td>\n",
       "      <td>539.0</td>\n",
       "      <td>786.0</td>\n",
       "    </tr>\n",
       "    <tr>\n",
       "      <th>3</th>\n",
       "      <td>1987-01-16</td>\n",
       "      <td>0.0027</td>\n",
       "      <td>0.0039</td>\n",
       "      <td>0.0027</td>\n",
       "      <td>0.0036</td>\n",
       "      <td>537.0</td>\n",
       "      <td>964.0</td>\n",
       "    </tr>\n",
       "    <tr>\n",
       "      <th>4</th>\n",
       "      <td>1987-01-19</td>\n",
       "      <td>0.0035</td>\n",
       "      <td>0.0069</td>\n",
       "      <td>0.0035</td>\n",
       "      <td>0.0054</td>\n",
       "      <td>506.0</td>\n",
       "      <td>866.0</td>\n",
       "    </tr>\n",
       "    <tr>\n",
       "      <th>...</th>\n",
       "      <td>...</td>\n",
       "      <td>...</td>\n",
       "      <td>...</td>\n",
       "      <td>...</td>\n",
       "      <td>...</td>\n",
       "      <td>...</td>\n",
       "      <td>...</td>\n",
       "    </tr>\n",
       "    <tr>\n",
       "      <th>8341</th>\n",
       "      <td>2020-02-05</td>\n",
       "      <td>0.6744</td>\n",
       "      <td>0.6779</td>\n",
       "      <td>0.6729</td>\n",
       "      <td>0.6750</td>\n",
       "      <td>107683.0</td>\n",
       "      <td>176331.0</td>\n",
       "    </tr>\n",
       "    <tr>\n",
       "      <th>8342</th>\n",
       "      <td>2020-02-06</td>\n",
       "      <td>0.6750</td>\n",
       "      <td>0.6769</td>\n",
       "      <td>0.6731</td>\n",
       "      <td>0.6735</td>\n",
       "      <td>95120.0</td>\n",
       "      <td>175086.0</td>\n",
       "    </tr>\n",
       "    <tr>\n",
       "      <th>8343</th>\n",
       "      <td>2020-02-07</td>\n",
       "      <td>0.6735</td>\n",
       "      <td>0.6740</td>\n",
       "      <td>0.6666</td>\n",
       "      <td>0.6681</td>\n",
       "      <td>106791.0</td>\n",
       "      <td>173073.0</td>\n",
       "    </tr>\n",
       "    <tr>\n",
       "      <th>8344</th>\n",
       "      <td>2020-02-10</td>\n",
       "      <td>0.6678</td>\n",
       "      <td>0.6711</td>\n",
       "      <td>0.6671</td>\n",
       "      <td>0.6683</td>\n",
       "      <td>80302.0</td>\n",
       "      <td>169095.0</td>\n",
       "    </tr>\n",
       "    <tr>\n",
       "      <th>8345</th>\n",
       "      <td>2020-02-11</td>\n",
       "      <td>0.6688</td>\n",
       "      <td>0.6741</td>\n",
       "      <td>0.6685</td>\n",
       "      <td>0.6719</td>\n",
       "      <td>96768.0</td>\n",
       "      <td>167230.0</td>\n",
       "    </tr>\n",
       "  </tbody>\n",
       "</table>\n",
       "<p>8346 rows × 7 columns</p>\n",
       "</div>"
      ],
      "text/plain": [
       "              a       b       c       d       e         f         g\n",
       "0    1987-01-13  0.0078  0.0089  0.0039  0.0041    1854.0     915.0\n",
       "1    1987-01-14 -0.0059 -0.0048 -0.0093 -0.0082    1446.0     930.0\n",
       "2    1987-01-15  0.0019  0.0020  0.0006  0.0008     539.0     786.0\n",
       "3    1987-01-16  0.0027  0.0039  0.0027  0.0036     537.0     964.0\n",
       "4    1987-01-19  0.0035  0.0069  0.0035  0.0054     506.0     866.0\n",
       "...         ...     ...     ...     ...     ...       ...       ...\n",
       "8341 2020-02-05  0.6744  0.6779  0.6729  0.6750  107683.0  176331.0\n",
       "8342 2020-02-06  0.6750  0.6769  0.6731  0.6735   95120.0  175086.0\n",
       "8343 2020-02-07  0.6735  0.6740  0.6666  0.6681  106791.0  173073.0\n",
       "8344 2020-02-10  0.6678  0.6711  0.6671  0.6683   80302.0  169095.0\n",
       "8345 2020-02-11  0.6688  0.6741  0.6685  0.6719   96768.0  167230.0\n",
       "\n",
       "[8346 rows x 7 columns]"
      ]
     },
     "execution_count": 19,
     "metadata": {},
     "output_type": "execute_result"
    }
   ],
   "source": [
    "df"
   ]
  },
  {
   "cell_type": "code",
   "execution_count": null,
   "metadata": {},
   "outputs": [],
   "source": []
  },
  {
   "cell_type": "code",
   "execution_count": 18,
   "metadata": {},
   "outputs": [
    {
     "data": {
      "text/plain": [
       "numpy.ndarray"
      ]
     },
     "execution_count": 18,
     "metadata": {},
     "output_type": "execute_result"
    }
   ],
   "source": [
    "type(s)"
   ]
  },
  {
   "cell_type": "code",
   "execution_count": 20,
   "metadata": {},
   "outputs": [
    {
     "data": {
      "text/plain": [
       "455.6015625"
      ]
     },
     "execution_count": 20,
     "metadata": {},
     "output_type": "execute_result"
    }
   ],
   "source": [
    "s.nbytes/1024"
   ]
  },
  {
   "cell_type": "code",
   "execution_count": 1,
   "metadata": {},
   "outputs": [],
   "source": [
    "import csv\n",
    "import os\n",
    "from datetime import datetime"
   ]
  },
  {
   "cell_type": "code",
   "execution_count": 73,
   "metadata": {},
   "outputs": [],
   "source": [
    "class Instrument:\n",
    "    HISTORY_FILE = os.path.join('market', '')\n",
    "    \n",
    "    def __init__(self, symbol, name, exchange, currency, market, region\\\n",
    "                 ,startdate, tickunit, tickprice, margin, depth, decimallength, has_history, is_tradable):\n",
    "        self.symbol = symbol\n",
    "        self.name = name\n",
    "        self.exchange = exchange\n",
    "        self.currency = currency\n",
    "        self.market = market\n",
    "        self.region = region\n",
    "        self.startdate = startdate\n",
    "        self.tickunit = tickunit\n",
    "        self.tickprice = tickprice\n",
    "        self.margin = margin\n",
    "        self.depth = depth\n",
    "        self.decimallength = decimallength\n",
    "        self.has_history = has_history\n",
    "        self.is_tradable = is_tradable\n",
    "    \n",
    "    def __repr__(self):\n",
    "        return f\"{self.name}({self.symbol})\"\n",
    "    \n",
    "    def get_history(self, length):\n",
    "        \n",
    "        \n",
    "class Instruments:\n",
    "    METAFILE = os.path.join('market', 'instruments.csv')\n",
    "    _lists = [] #개별 상품 인스턴트 리스트\n",
    "    with open(METAFILE ,'r') as file:\n",
    "        reader = csv.DictReader(file)\n",
    "        _instruments = list(reader)\n",
    "        \n",
    "        for instrument in _instruments:\n",
    "            __instrument = Instrument(\n",
    "                symbol=instrument['symbol'].lower(),\n",
    "                name=instrument['name'].lower(),\n",
    "                exchange=instrument['exchange'].lower(),\n",
    "                currency=instrument['currency'].lower(),\n",
    "                market=instrument['market'].lower(),\n",
    "                region=instrument['region'].lower(),\n",
    "                startdate=datetime.strptime(instrument['startdate'],'%Y-%m-%d'),\n",
    "                tickunit=float(instrument['tickunit']),\n",
    "                tickprice=float(instrument['tickprice']),\n",
    "                margin=float(instrument['margin']),\n",
    "                depth=int(instrument['depth']),\n",
    "                decimallength=int(instrument['decimallength']),\n",
    "                has_history=True if instrument['has_history']=='y' else False,\n",
    "                is_tradable=True if instrument['is_tradable']=='y' else False\n",
    "            )\n",
    "            _lists.append(__instrument)\n",
    "            \n",
    "    \n",
    "    @staticmethod\n",
    "    def get(**kwargs):\n",
    "            #symbol=None,name=None, exchange=None, startdate=None, currency=None, region=None\\\n",
    "            #,tickunit=None, tickprice=None, margin=None, depth=None, decimal_length=None\\\n",
    "            #,has_history=None, is_tradable=None):\n",
    "        attrs = ['symbol','name','exchange','startdate','currency','region'\\\n",
    "                ,'tickunit','tickprice','margin','depth','decimallength','has_history','is_tradable']\n",
    "        def func(ins):\n",
    "            for key, value in kwargs.items():\n",
    "                if key not in attrs:\n",
    "                    return False\n",
    "                \n",
    "                if getattr(ins, key) != value.lower() if isinstance(value, str) else value:\n",
    "                    return False\n",
    "            return True\n",
    "        return [ret for ret in filter(func, Instruments._lists)]\n"
   ]
  },
  {
   "cell_type": "code",
   "execution_count": 84,
   "metadata": {},
   "outputs": [
    {
     "data": {
      "text/plain": [
       "[australian dollar(ad),\n",
       " soybean oil(bo),\n",
       " british pound gbp(bp),\n",
       " corn(c),\n",
       " canadian dollar(cd),\n",
       " wti crude oil(cl),\n",
       " class iii milk(da),\n",
       " euro fx(ec),\n",
       " eurodollar(ed),\n",
       " s&p 500 index e-mini(es),\n",
       " 30-day federal funds(ff),\n",
       " 5-year us treasury note(fv),\n",
       " gold(gc),\n",
       " copper(hg),\n",
       " heating oil(ho),\n",
       " japanese yen(jy),\n",
       " random length lumber(lb),\n",
       " live cattle(lc),\n",
       " lean hogs(ln),\n",
       " s&p 400 midcap index(md),\n",
       " mexican peso(mp),\n",
       " new zealand dollar nzd(ne),\n",
       " natural gas(ng),\n",
       " nikkei 225(nk),\n",
       " nasdaq 100 index mini(nq),\n",
       " oats(o),\n",
       " palladium(pa),\n",
       " platinum(pl),\n",
       " gasoline(rb),\n",
       " rough rice(rr),\n",
       " russell 1000 index mini(rs1),\n",
       " russell 2000 index mini(rty),\n",
       " soybeans(s),\n",
       " swiss franc chf(sf),\n",
       " silver(si),\n",
       " soybean meal(sm),\n",
       " s&p 500 index(sp),\n",
       " 2-year us treasury note(tu),\n",
       " 10-year us treasury note(ty),\n",
       " 30-year us treasury bond(us),\n",
       " wheat(w),\n",
       " e-mini dow jones(ym)]"
      ]
     },
     "execution_count": 84,
     "metadata": {},
     "output_type": "execute_result"
    }
   ],
   "source": [
    "Instruments.get(exchange='CME')"
   ]
  },
  {
   "cell_type": "code",
   "execution_count": 59,
   "metadata": {},
   "outputs": [
    {
     "data": {
      "text/plain": [
       "<__main__.Instrument at 0x1edbce8fd48>"
      ]
     },
     "execution_count": 59,
     "metadata": {},
     "output_type": "execute_result"
    }
   ],
   "source": [
    "a"
   ]
  },
  {
   "cell_type": "code",
   "execution_count": 64,
   "metadata": {},
   "outputs": [],
   "source": [
    "class A:\n",
    "    def __repr__(self):\n",
    "        return 'hi'"
   ]
  },
  {
   "cell_type": "code",
   "execution_count": 65,
   "metadata": {},
   "outputs": [],
   "source": [
    "a = A()"
   ]
  },
  {
   "cell_type": "code",
   "execution_count": 66,
   "metadata": {},
   "outputs": [
    {
     "data": {
      "text/plain": [
       "hi"
      ]
     },
     "execution_count": 66,
     "metadata": {},
     "output_type": "execute_result"
    }
   ],
   "source": [
    "a"
   ]
  },
  {
   "cell_type": "code",
   "execution_count": null,
   "metadata": {},
   "outputs": [],
   "source": []
  }
 ],
 "metadata": {
  "kernelspec": {
   "display_name": "Python 3",
   "language": "python",
   "name": "python3"
  },
  "language_info": {
   "codemirror_mode": {
    "name": "ipython",
    "version": 3
   },
   "file_extension": ".py",
   "mimetype": "text/x-python",
   "name": "python",
   "nbconvert_exporter": "python",
   "pygments_lexer": "ipython3",
   "version": "3.7.5"
  }
 },
 "nbformat": 4,
 "nbformat_minor": 2
}

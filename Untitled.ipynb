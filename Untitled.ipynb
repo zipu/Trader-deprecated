{
 "cells": [
  {
   "cell_type": "code",
   "execution_count": 1,
   "metadata": {},
   "outputs": [
    {
     "name": "stderr",
     "output_type": "stream",
     "text": [
      "C:\\python\\python37\\lib\\site-packages\\sklearn\\utils\\deprecation.py:144: FutureWarning: The sklearn.cluster.k_means_ module is  deprecated in version 0.22 and will be removed in version 0.24. The corresponding classes / functions should instead be imported from sklearn.cluster. Anything that cannot be imported from sklearn.cluster is now part of the private API.\n",
      "  warnings.warn(message, FutureWarning)\n"
     ]
    }
   ],
   "source": [
    "from market import Instruments"
   ]
  },
  {
   "cell_type": "code",
   "execution_count": 6,
   "metadata": {},
   "outputs": [],
   "source": [
    "import pandas as pd"
   ]
  },
  {
   "cell_type": "code",
   "execution_count": 3,
   "metadata": {},
   "outputs": [],
   "source": [
    "d=Instruments.get(symbol='ad')[0]"
   ]
  },
  {
   "cell_type": "code",
   "execution_count": 7,
   "metadata": {},
   "outputs": [],
   "source": [
    "df = pd.DataFrame(d.history())"
   ]
  },
  {
   "cell_type": "code",
   "execution_count": 9,
   "metadata": {},
   "outputs": [],
   "source": [
    "df.columns = ['a','b','c','d','e','f','g']"
   ]
  },
  {
   "cell_type": "code",
   "execution_count": 18,
   "metadata": {},
   "outputs": [],
   "source": [
    "df['a'] = df['a'].astype('M8[ms]')"
   ]
  },
  {
   "cell_type": "code",
   "execution_count": 2,
   "metadata": {},
   "outputs": [],
   "source": [
    "d=Instruments.define_sectors(0)"
   ]
  },
  {
   "cell_type": "code",
   "execution_count": 2,
   "metadata": {},
   "outputs": [],
   "source": [
    "d=Instruments.sectors()"
   ]
  },
  {
   "cell_type": "code",
   "execution_count": 4,
   "metadata": {},
   "outputs": [
    {
     "data": {
      "text/plain": [
       "'s&p 500 index e-mini'"
      ]
     },
     "execution_count": 4,
     "metadata": {},
     "output_type": "execute_result"
    }
   ],
   "source": [
    "d[0][0].name"
   ]
  },
  {
   "cell_type": "code",
   "execution_count": 11,
   "metadata": {},
   "outputs": [
    {
     "data": {
      "text/plain": [
       "['ice_dx;ice_sb',\n",
       " 'cme_bp;cme_c;cme_o;cme_pl;cme_rb;cme_rr;cme_si',\n",
       " 'eurex_fgbl;eurex_fgbm;eurex_foat',\n",
       " 'cme_hg;ice_kc;cme_ln;cme_s;cme_sm',\n",
       " 'cme_ad;cme_bo;cme_cd;cme_cl;cme_ho;cme_lc;cme_ne;cme_ng;cme_w',\n",
       " 'ice_cc;ice_ct;cme_es;eurex_fbtp;eurex_fdax;eurex_fesx;cme_md;cme_mp;cme_nk;cme_nq;ice_oj;cme_rty;cme_sp;cme_ym',\n",
       " 'cme_ec;cme_jy;cme_sf',\n",
       " 'cme_ed;eurex_fgbs;cme_fv;cme_gc;cme_pa;cme_tu;cme_ty;cme_us;cboe_vx']"
      ]
     },
     "execution_count": 11,
     "metadata": {},
     "output_type": "execute_result"
    }
   ],
   "source": [
    "a.split('/')"
   ]
  },
  {
   "cell_type": "code",
   "execution_count": 11,
   "metadata": {},
   "outputs": [
    {
     "data": {
      "text/plain": [
       "'a;b;c'"
      ]
     },
     "execution_count": 11,
     "metadata": {},
     "output_type": "execute_result"
    }
   ],
   "source": [
    "';'.join(['a','b','c'])"
   ]
  },
  {
   "cell_type": "code",
   "execution_count": 20,
   "metadata": {},
   "outputs": [
    {
     "data": {
      "text/plain": [
       "455.6015625"
      ]
     },
     "execution_count": 20,
     "metadata": {},
     "output_type": "execute_result"
    }
   ],
   "source": [
    "s.nbytes/1024"
   ]
  },
  {
   "cell_type": "code",
   "execution_count": 1,
   "metadata": {},
   "outputs": [],
   "source": [
    "import csv\n",
    "import os\n",
    "from datetime import datetime"
   ]
  },
  {
   "cell_type": "code",
   "execution_count": 73,
   "metadata": {},
   "outputs": [],
   "source": [
    "class Instrument:\n",
    "    HISTORY_FILE = os.path.join('market', '')\n",
    "    \n",
    "    def __init__(self, symbol, name, exchange, currency, market, region\\\n",
    "                 ,startdate, tickunit, tickprice, margin, depth, decimallength, has_history, is_tradable):\n",
    "        self.symbol = symbol\n",
    "        self.name = name\n",
    "        self.exchange = exchange\n",
    "        self.currency = currency\n",
    "        self.market = market\n",
    "        self.region = region\n",
    "        self.startdate = startdate\n",
    "        self.tickunit = tickunit\n",
    "        self.tickprice = tickprice\n",
    "        self.margin = margin\n",
    "        self.depth = depth\n",
    "        self.decimallength = decimallength\n",
    "        self.has_history = has_history\n",
    "        self.is_tradable = is_tradable\n",
    "    \n",
    "    def __repr__(self):\n",
    "        return f\"{self.name}({self.symbol})\"\n",
    "    \n",
    "    def get_history(self, length):\n",
    "        \n",
    "        \n",
    "class Instruments:\n",
    "    METAFILE = os.path.join('market', 'instruments.csv')\n",
    "    _lists = [] #개별 상품 인스턴트 리스트\n",
    "    with open(METAFILE ,'r') as file:\n",
    "        reader = csv.DictReader(file)\n",
    "        _instruments = list(reader)\n",
    "        \n",
    "        for instrument in _instruments:\n",
    "            __instrument = Instrument(\n",
    "                symbol=instrument['symbol'].lower(),\n",
    "                name=instrument['name'].lower(),\n",
    "                exchange=instrument['exchange'].lower(),\n",
    "                currency=instrument['currency'].lower(),\n",
    "                market=instrument['market'].lower(),\n",
    "                region=instrument['region'].lower(),\n",
    "                startdate=datetime.strptime(instrument['startdate'],'%Y-%m-%d'),\n",
    "                tickunit=float(instrument['tickunit']),\n",
    "                tickprice=float(instrument['tickprice']),\n",
    "                margin=float(instrument['margin']),\n",
    "                depth=int(instrument['depth']),\n",
    "                decimallength=int(instrument['decimallength']),\n",
    "                has_history=True if instrument['has_history']=='y' else False,\n",
    "                is_tradable=True if instrument['is_tradable']=='y' else False\n",
    "            )\n",
    "            _lists.append(__instrument)\n",
    "            \n",
    "    \n",
    "    @staticmethod\n",
    "    def get(**kwargs):\n",
    "            #symbol=None,name=None, exchange=None, startdate=None, currency=None, region=None\\\n",
    "            #,tickunit=None, tickprice=None, margin=None, depth=None, decimal_length=None\\\n",
    "            #,has_history=None, is_tradable=None):\n",
    "        attrs = ['symbol','name','exchange','startdate','currency','region'\\\n",
    "                ,'tickunit','tickprice','margin','depth','decimallength','has_history','is_tradable']\n",
    "        def func(ins):\n",
    "            for key, value in kwargs.items():\n",
    "                if key not in attrs:\n",
    "                    return False\n",
    "                \n",
    "                if getattr(ins, key) != value.lower() if isinstance(value, str) else value:\n",
    "                    return False\n",
    "            return True\n",
    "        return [ret for ret in filter(func, Instruments._lists)]\n"
   ]
  },
  {
   "cell_type": "code",
   "execution_count": 84,
   "metadata": {},
   "outputs": [
    {
     "data": {
      "text/plain": [
       "[australian dollar(ad),\n",
       " soybean oil(bo),\n",
       " british pound gbp(bp),\n",
       " corn(c),\n",
       " canadian dollar(cd),\n",
       " wti crude oil(cl),\n",
       " class iii milk(da),\n",
       " euro fx(ec),\n",
       " eurodollar(ed),\n",
       " s&p 500 index e-mini(es),\n",
       " 30-day federal funds(ff),\n",
       " 5-year us treasury note(fv),\n",
       " gold(gc),\n",
       " copper(hg),\n",
       " heating oil(ho),\n",
       " japanese yen(jy),\n",
       " random length lumber(lb),\n",
       " live cattle(lc),\n",
       " lean hogs(ln),\n",
       " s&p 400 midcap index(md),\n",
       " mexican peso(mp),\n",
       " new zealand dollar nzd(ne),\n",
       " natural gas(ng),\n",
       " nikkei 225(nk),\n",
       " nasdaq 100 index mini(nq),\n",
       " oats(o),\n",
       " palladium(pa),\n",
       " platinum(pl),\n",
       " gasoline(rb),\n",
       " rough rice(rr),\n",
       " russell 1000 index mini(rs1),\n",
       " russell 2000 index mini(rty),\n",
       " soybeans(s),\n",
       " swiss franc chf(sf),\n",
       " silver(si),\n",
       " soybean meal(sm),\n",
       " s&p 500 index(sp),\n",
       " 2-year us treasury note(tu),\n",
       " 10-year us treasury note(ty),\n",
       " 30-year us treasury bond(us),\n",
       " wheat(w),\n",
       " e-mini dow jones(ym)]"
      ]
     },
     "execution_count": 84,
     "metadata": {},
     "output_type": "execute_result"
    }
   ],
   "source": [
    "Instruments.get(exchange='CME')"
   ]
  },
  {
   "cell_type": "code",
   "execution_count": 59,
   "metadata": {},
   "outputs": [
    {
     "data": {
      "text/plain": [
       "<__main__.Instrument at 0x1edbce8fd48>"
      ]
     },
     "execution_count": 59,
     "metadata": {},
     "output_type": "execute_result"
    }
   ],
   "source": [
    "a"
   ]
  },
  {
   "cell_type": "code",
   "execution_count": 64,
   "metadata": {},
   "outputs": [],
   "source": [
    "class A:\n",
    "    def __repr__(self):\n",
    "        return 'hi'"
   ]
  },
  {
   "cell_type": "code",
   "execution_count": 65,
   "metadata": {},
   "outputs": [],
   "source": [
    "a = A()"
   ]
  },
  {
   "cell_type": "code",
   "execution_count": 66,
   "metadata": {},
   "outputs": [
    {
     "data": {
      "text/plain": [
       "hi"
      ]
     },
     "execution_count": 66,
     "metadata": {},
     "output_type": "execute_result"
    }
   ],
   "source": [
    "a"
   ]
  },
  {
   "cell_type": "code",
   "execution_count": null,
   "metadata": {},
   "outputs": [],
   "source": []
  }
 ],
 "metadata": {
  "kernelspec": {
   "display_name": "Python 3",
   "language": "python",
   "name": "python3"
  },
  "language_info": {
   "codemirror_mode": {
    "name": "ipython",
    "version": 3
   },
   "file_extension": ".py",
   "mimetype": "text/x-python",
   "name": "python",
   "nbconvert_exporter": "python",
   "pygments_lexer": "ipython3",
   "version": "3.7.5"
  }
 },
 "nbformat": 4,
 "nbformat_minor": 2
}
